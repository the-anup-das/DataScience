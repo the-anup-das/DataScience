{
  "nbformat": 4,
  "nbformat_minor": 0,
  "metadata": {
    "colab": {
      "name": "fake news detection LSTM.ipynb",
      "provenance": [],
      "collapsed_sections": [],
      "toc_visible": true
    },
    "kernelspec": {
      "name": "python3",
      "display_name": "Python 3"
    },
    "accelerator": "GPU"
  },
  "cells": [
    {
      "cell_type": "markdown",
      "metadata": {
        "id": "7WK-EHrmO6gG"
      },
      "source": [
        "#imports"
      ]
    },
    {
      "cell_type": "markdown",
      "metadata": {
        "id": "NWvsF-zk9TYu"
      },
      "source": [
        "# New Section"
      ]
    },
    {
      "cell_type": "code",
      "metadata": {
        "id": "F1MaMgAMOxpJ"
      },
      "source": [
        "import pandas as pd\n",
        "import re\n",
        "import matplotlib.pyplot as plt\n",
        "from sklearn.model_selection import train_test_split\n",
        "from sklearn.preprocessing import LabelEncoder\n",
        "from tensorflow.keras.models import Model\n",
        "from tensorflow.keras.models import Sequential\n",
        "from tensorflow.keras.layers import LSTM, Activation, Dense, Dropout, Input, Embedding\n",
        "from tensorflow.keras.optimizers import RMSprop\n",
        "from tensorflow.keras.preprocessing.text import Tokenizer\n",
        "from tensorflow.keras.preprocessing import sequence\n",
        "from tensorflow.keras.callbacks import EarlyStopping\n",
        "from tensorflow.keras.preprocessing.sequence import pad_sequences"
      ],
      "execution_count": null,
      "outputs": []
    },
    {
      "cell_type": "code",
      "metadata": {
        "id": "raIdHhH0PBtH"
      },
      "source": [
        "real=pd.read_csv('True.csv')\n",
        "fake=pd.read_csv('Fake.csv')"
      ],
      "execution_count": null,
      "outputs": []
    },
    {
      "cell_type": "code",
      "metadata": {
        "id": "9IY1ePF8S4Wv"
      },
      "source": [
        "# dropping rows that have urls as text and date, real's dates look fine, also dropping ones that have no text\n",
        "fake_drop = fake.drop(index=[9358,15507,15508,18933])\n",
        "fake_drop = fake_drop.drop(fake_drop.loc[fake_drop.text == ' '].index)\n",
        "real_drop = real.drop(real.loc[real.text == ' '].index)"
      ],
      "execution_count": null,
      "outputs": []
    },
    {
      "cell_type": "code",
      "metadata": {
        "id": "sT1j6oEuSSzW",
        "outputId": "3db5ec9e-5e84-4d3a-9eaf-c43c0f1d7121",
        "colab": {
          "base_uri": "https://localhost:8080/",
          "height": 289
        }
      },
      "source": [
        "real_drop.head()"
      ],
      "execution_count": null,
      "outputs": [
        {
          "output_type": "execute_result",
          "data": {
            "text/html": [
              "<div>\n",
              "<style scoped>\n",
              "    .dataframe tbody tr th:only-of-type {\n",
              "        vertical-align: middle;\n",
              "    }\n",
              "\n",
              "    .dataframe tbody tr th {\n",
              "        vertical-align: top;\n",
              "    }\n",
              "\n",
              "    .dataframe thead th {\n",
              "        text-align: right;\n",
              "    }\n",
              "</style>\n",
              "<table border=\"1\" class=\"dataframe\">\n",
              "  <thead>\n",
              "    <tr style=\"text-align: right;\">\n",
              "      <th></th>\n",
              "      <th>title</th>\n",
              "      <th>text</th>\n",
              "      <th>subject</th>\n",
              "      <th>date</th>\n",
              "    </tr>\n",
              "  </thead>\n",
              "  <tbody>\n",
              "    <tr>\n",
              "      <th>0</th>\n",
              "      <td>As U.S. budget fight looms, Republicans flip t...</td>\n",
              "      <td>WASHINGTON (Reuters) - The head of a conservat...</td>\n",
              "      <td>politicsNews</td>\n",
              "      <td>December 31, 2017</td>\n",
              "    </tr>\n",
              "    <tr>\n",
              "      <th>1</th>\n",
              "      <td>U.S. military to accept transgender recruits o...</td>\n",
              "      <td>WASHINGTON (Reuters) - Transgender people will...</td>\n",
              "      <td>politicsNews</td>\n",
              "      <td>December 29, 2017</td>\n",
              "    </tr>\n",
              "    <tr>\n",
              "      <th>2</th>\n",
              "      <td>Senior U.S. Republican senator: 'Let Mr. Muell...</td>\n",
              "      <td>WASHINGTON (Reuters) - The special counsel inv...</td>\n",
              "      <td>politicsNews</td>\n",
              "      <td>December 31, 2017</td>\n",
              "    </tr>\n",
              "    <tr>\n",
              "      <th>3</th>\n",
              "      <td>FBI Russia probe helped by Australian diplomat...</td>\n",
              "      <td>WASHINGTON (Reuters) - Trump campaign adviser ...</td>\n",
              "      <td>politicsNews</td>\n",
              "      <td>December 30, 2017</td>\n",
              "    </tr>\n",
              "    <tr>\n",
              "      <th>4</th>\n",
              "      <td>Trump wants Postal Service to charge 'much mor...</td>\n",
              "      <td>SEATTLE/WASHINGTON (Reuters) - President Donal...</td>\n",
              "      <td>politicsNews</td>\n",
              "      <td>December 29, 2017</td>\n",
              "    </tr>\n",
              "  </tbody>\n",
              "</table>\n",
              "</div>"
            ],
            "text/plain": [
              "                                               title  ...                date\n",
              "0  As U.S. budget fight looms, Republicans flip t...  ...  December 31, 2017 \n",
              "1  U.S. military to accept transgender recruits o...  ...  December 29, 2017 \n",
              "2  Senior U.S. Republican senator: 'Let Mr. Muell...  ...  December 31, 2017 \n",
              "3  FBI Russia probe helped by Australian diplomat...  ...  December 30, 2017 \n",
              "4  Trump wants Postal Service to charge 'much mor...  ...  December 29, 2017 \n",
              "\n",
              "[5 rows x 4 columns]"
            ]
          },
          "metadata": {
            "tags": []
          },
          "execution_count": 4
        }
      ]
    },
    {
      "cell_type": "code",
      "metadata": {
        "id": "CqSgcVCLSWg2"
      },
      "source": [
        "# Give labels to data before combining\n",
        "fake_drop['fake'] = 1\n",
        "real['fake'] = 0"
      ],
      "execution_count": null,
      "outputs": []
    },
    {
      "cell_type": "code",
      "metadata": {
        "id": "N4sXhi6ITCPJ"
      },
      "source": [
        "combined = pd.concat([fake_drop, real])"
      ],
      "execution_count": null,
      "outputs": []
    },
    {
      "cell_type": "code",
      "metadata": {
        "id": "JCld3EveTEZ_"
      },
      "source": [
        "## train/test split the text data and labels\n",
        "features = combined['text']\n",
        "labels = combined['fake']\n",
        "X_train, X_test, y_train, y_test = train_test_split(features, labels, random_state = 42)"
      ],
      "execution_count": null,
      "outputs": []
    },
    {
      "cell_type": "code",
      "metadata": {
        "id": "fVneN1QDTURH"
      },
      "source": [
        "## not removing stop words to maintain word context\n",
        "max_words = 2000\n",
        "max_len = 400\n",
        "\n",
        "token = Tokenizer(num_words=max_words, lower=True, split=' ')\n",
        "token.fit_on_texts(X_train.values)\n",
        "sequences = token.texts_to_sequences(X_train.values)\n",
        "train_sequences_padded = pad_sequences(sequences, maxlen=max_len)"
      ],
      "execution_count": null,
      "outputs": []
    },
    {
      "cell_type": "code",
      "metadata": {
        "id": "NZdbSCzNTp8v",
        "outputId": "c6f646cf-2370-4da6-99ae-f0be230ac460",
        "colab": {
          "base_uri": "https://localhost:8080/",
          "height": 408
        }
      },
      "source": [
        "embed_dim = 50\n",
        "lstm_out = 64\n",
        "batch_size = 32\n",
        "\n",
        "model = Sequential()\n",
        "model.add(Embedding(max_words, embed_dim, input_length = max_len))\n",
        "model.add(LSTM(lstm_out))\n",
        "model.add(Dense(256))\n",
        "model.add(Activation('relu'))\n",
        "model.add(Dropout(0.5))\n",
        "model.add(Dense(1, name='out_layer'))\n",
        "model.add(Activation('sigmoid'))\n",
        "model.compile(loss = 'binary_crossentropy', optimizer='adam',metrics = ['accuracy'])\n",
        "print(model.summary())"
      ],
      "execution_count": null,
      "outputs": [
        {
          "output_type": "stream",
          "text": [
            "Model: \"sequential\"\n",
            "_________________________________________________________________\n",
            "Layer (type)                 Output Shape              Param #   \n",
            "=================================================================\n",
            "embedding (Embedding)        (None, 400, 50)           100000    \n",
            "_________________________________________________________________\n",
            "lstm (LSTM)                  (None, 64)                29440     \n",
            "_________________________________________________________________\n",
            "dense (Dense)                (None, 256)               16640     \n",
            "_________________________________________________________________\n",
            "activation (Activation)      (None, 256)               0         \n",
            "_________________________________________________________________\n",
            "dropout (Dropout)            (None, 256)               0         \n",
            "_________________________________________________________________\n",
            "out_layer (Dense)            (None, 1)                 257       \n",
            "_________________________________________________________________\n",
            "activation_1 (Activation)    (None, 1)                 0         \n",
            "=================================================================\n",
            "Total params: 146,337\n",
            "Trainable params: 146,337\n",
            "Non-trainable params: 0\n",
            "_________________________________________________________________\n",
            "None\n"
          ],
          "name": "stdout"
        }
      ]
    },
    {
      "cell_type": "code",
      "metadata": {
        "id": "qDBtydZFT7hm",
        "outputId": "c874927f-10dc-4835-a0f9-799dc94fc4a0",
        "colab": {
          "base_uri": "https://localhost:8080/",
          "height": 207
        }
      },
      "source": [
        "history = model.fit(train_sequences_padded, y_train, batch_size=batch_size, epochs = 5, validation_split=0.2)"
      ],
      "execution_count": null,
      "outputs": [
        {
          "output_type": "stream",
          "text": [
            "Epoch 1/5\n",
            "830/830 [==============================] - 17s 21ms/step - loss: 0.1051 - accuracy: 0.9609 - val_loss: 0.0513 - val_accuracy: 0.9877\n",
            "Epoch 2/5\n",
            "830/830 [==============================] - 16s 20ms/step - loss: 0.0430 - accuracy: 0.9886 - val_loss: 0.0449 - val_accuracy: 0.9875\n",
            "Epoch 3/5\n",
            "830/830 [==============================] - 17s 20ms/step - loss: 0.0839 - accuracy: 0.9707 - val_loss: 0.0413 - val_accuracy: 0.9881\n",
            "Epoch 4/5\n",
            "830/830 [==============================] - 16s 20ms/step - loss: 0.0459 - accuracy: 0.9856 - val_loss: 0.0967 - val_accuracy: 0.9684\n",
            "Epoch 5/5\n",
            "830/830 [==============================] - 17s 20ms/step - loss: 0.0359 - accuracy: 0.9911 - val_loss: 0.0644 - val_accuracy: 0.9756\n"
          ],
          "name": "stdout"
        }
      ]
    },
    {
      "cell_type": "code",
      "metadata": {
        "id": "MNJynhiRkiuM"
      },
      "source": [
        "# now compare to test values\n",
        "test_sequences = token.texts_to_sequences(X_test)\n",
        "test_sequences_padded = pad_sequences(test_sequences, maxlen=max_len)"
      ],
      "execution_count": null,
      "outputs": []
    },
    {
      "cell_type": "code",
      "metadata": {
        "id": "vDP_Olp2kkyD",
        "outputId": "15bdbfcd-1d76-4920-ea9a-65d96f66db06",
        "colab": {
          "base_uri": "https://localhost:8080/",
          "height": 51
        }
      },
      "source": [
        "model.evaluate(test_sequences_padded, y_test)"
      ],
      "execution_count": null,
      "outputs": [
        {
          "output_type": "stream",
          "text": [
            "346/346 [==============================] - 3s 8ms/step - loss: 0.0641 - accuracy: 0.9774\n"
          ],
          "name": "stdout"
        },
        {
          "output_type": "execute_result",
          "data": {
            "text/plain": [
              "[0.06408517807722092, 0.9774103164672852]"
            ]
          },
          "metadata": {
            "tags": []
          },
          "execution_count": 12
        }
      ]
    },
    {
      "cell_type": "code",
      "metadata": {
        "id": "nh8-3ggsknMr",
        "outputId": "2b49a990-7e1e-4a1f-c7c7-7bf8d20d6b31",
        "colab": {
          "base_uri": "https://localhost:8080/",
          "height": 397
        }
      },
      "source": [
        "plt.plot(history.history['accuracy'])\n",
        "plt.plot(history.history['val_accuracy'])\n",
        "plt.title('Model Accuracy')\n",
        "plt.legend(['Training', 'Validation'])\n",
        "plt.ylabel('Accuracy (%)')\n",
        "plt.xlabel('Epochs')\n",
        "plt.xticks([0,1,2,3,4])"
      ],
      "execution_count": null,
      "outputs": [
        {
          "output_type": "execute_result",
          "data": {
            "text/plain": [
              "([<matplotlib.axis.XTick at 0x7fdb304cc208>,\n",
              "  <matplotlib.axis.XTick at 0x7fdb304cc1d0>,\n",
              "  <matplotlib.axis.XTick at 0x7fdb304afac8>,\n",
              "  <matplotlib.axis.XTick at 0x7fdb30495ac8>,\n",
              "  <matplotlib.axis.XTick at 0x7fdb30495f60>],\n",
              " <a list of 5 Text major ticklabel objects>)"
            ]
          },
          "metadata": {
            "tags": []
          },
          "execution_count": 13
        },
        {
          "output_type": "display_data",
          "data": {
            "image/png": "[encoded data removed]",
            "text/plain": [
              "<Figure size 432x288 with 1 Axes>"
            ]
          },
          "metadata": {
            "tags": [],
            "needs_background": "light"
          }
        }
      ]
    },
    {
      "cell_type": "code",
      "metadata": {
        "id": "wRpc8QoVko_g",
        "outputId": "282b2804-7df1-49eb-98ef-3a48d5a9cdba",
        "colab": {
          "base_uri": "https://localhost:8080/",
          "height": 397
        }
      },
      "source": [
        "plt.plot(history.history['loss'])\n",
        "plt.plot(history.history['val_loss'])\n",
        "plt.title('Model Loss')\n",
        "plt.legend(['Training', 'Validation'])\n",
        "plt.ylabel('Loss')\n",
        "plt.xlabel('Epochs')\n",
        "plt.xticks([0,1,2,3,4])\n"
      ],
      "execution_count": null,
      "outputs": [
        {
          "output_type": "execute_result",
          "data": {
            "text/plain": [
              "([<matplotlib.axis.XTick at 0x7fdb30521f60>,\n",
              "  <matplotlib.axis.XTick at 0x7fdb30521e10>,\n",
              "  <matplotlib.axis.XTick at 0x7fdb30521978>,\n",
              "  <matplotlib.axis.XTick at 0x7fdb30422240>,\n",
              "  <matplotlib.axis.XTick at 0x7fdb304226d8>],\n",
              " <a list of 5 Text major ticklabel objects>)"
            ]
          },
          "metadata": {
            "tags": []
          },
          "execution_count": 14
        },
        {
          "output_type": "display_data",
          "data": {
            "image/png": "[encoded data removed]",
            "text/plain": [
              "<Figure size 432x288 with 1 Axes>"
            ]
          },
          "metadata": {
            "tags": [],
            "needs_background": "light"
          }
        }
      ]
    },
    {
      "cell_type": "code",
      "metadata": {
        "id": "hhrVKoRnkvGa"
      },
      "source": [
        ""
      ],
      "execution_count": null,
      "outputs": []
    }
  ]
}